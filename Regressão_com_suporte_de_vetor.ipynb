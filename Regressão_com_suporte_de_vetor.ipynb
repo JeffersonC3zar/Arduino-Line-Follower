{
  "nbformat": 4,
  "nbformat_minor": 0,
  "metadata": {
    "colab": {
      "name": "Regressão com suporte de vetor",
      "provenance": [],
      "authorship_tag": "ABX9TyPFRziaeTObZr9bQhggjlxi",
      "include_colab_link": true
    },
    "kernelspec": {
      "name": "python3",
      "display_name": "Python 3"
    }
  },
  "cells": [
    {
      "cell_type": "markdown",
      "metadata": {
        "id": "view-in-github",
        "colab_type": "text"
      },
      "source": [
        "<a href=\"https://colab.research.google.com/github/JeffersonC3zar/Arduino-Line-Follower/blob/master/Regress%C3%A3o_com_suporte_de_vetor.ipynb\" target=\"_parent\"><img src=\"https://colab.research.google.com/assets/colab-badge.svg\" alt=\"Open In Colab\"/></a>"
      ]
    },
    {
      "cell_type": "code",
      "metadata": {
        "id": "uzE2eY4xy0De"
      },
      "source": [
        "import matplotlib.pyplot as plt\n",
        "import numpy as np\n",
        "from sklearn import datasets\n",
        "from sklearn.pipeline import Pipeline\n",
        "from sklearn.preprocessing import StandardScaler \n",
        "from sklearn.svm import SVR\n",
        "from sklearn.model_selection import train_test_split\n",
        "from sklearn.metrics import mean_absolute_error, r2_score"
      ],
      "execution_count": null,
      "outputs": []
    },
    {
      "cell_type": "code",
      "metadata": {
        "id": "_PR4iY7YzC2P"
      },
      "source": [
        "# Carrega o conjunto de dados \"boston\"\n",
        "X, y = datasets.load_boston(return_X_y=True)\n",
        "\n"
      ],
      "execution_count": null,
      "outputs": []
    },
    {
      "cell_type": "code",
      "metadata": {
        "id": "OU-RqNz1zFWt"
      },
      "source": [
        "# Cria o pipeline com o ajuste de escala dos dados e o regressor\n",
        "sv_regr = Pipeline([\n",
        "      ('Scaler', StandardScaler()),\n",
        "      ('Regressor', SVR(kernel='linear',C=10))\n",
        "])\n",
        "\n"
      ],
      "execution_count": null,
      "outputs": []
    },
    {
      "cell_type": "code",
      "metadata": {
        "id": "ppb5isTjzHEg"
      },
      "source": [
        "# Separa conjunto de treinamento e teste\n",
        "X_train, X_test, y_train, y_test = train_test_split(X, y, test_size=0.9, random_state = 42)\n",
        "\n"
      ],
      "execution_count": null,
      "outputs": []
    },
    {
      "cell_type": "code",
      "metadata": {
        "id": "OGH6eEAgzI73",
        "outputId": "777dfd41-d675-4f7c-9f9e-ca68957fd7fb",
        "colab": {
          "base_uri": "https://localhost:8080/",
          "height": 153
        }
      },
      "source": [
        "# Treina o modelo\n",
        "sv_regr.fit(X_train, y_train)\n",
        "\n"
      ],
      "execution_count": null,
      "outputs": [
        {
          "output_type": "execute_result",
          "data": {
            "text/plain": [
              "Pipeline(memory=None,\n",
              "         steps=[('Scaler',\n",
              "                 StandardScaler(copy=True, with_mean=True, with_std=True)),\n",
              "                ('Regressor',\n",
              "                 SVR(C=10, cache_size=200, coef0=0.0, degree=3, epsilon=0.1,\n",
              "                     gamma='scale', kernel='linear', max_iter=-1,\n",
              "                     shrinking=True, tol=0.001, verbose=False))],\n",
              "         verbose=False)"
            ]
          },
          "metadata": {
            "tags": []
          },
          "execution_count": 45
        }
      ]
    },
    {
      "cell_type": "code",
      "metadata": {
        "id": "MU9weoOSzKb3",
        "outputId": "1455192b-4319-4076-dd72-f6610d70ec81",
        "colab": {
          "base_uri": "https://localhost:8080/",
          "height": 51
        }
      },
      "source": [
        "# Testa o modelo\n",
        "y_pred = sv_regr.predict(X_test)\n",
        "print('Erro médio Absoluto: %.2f' % mean_absolute_error(y_test, y_pred))\n",
        "print('R2 Score: %.2f' % r2_score(y_test, y_pred))"
      ],
      "execution_count": null,
      "outputs": [
        {
          "output_type": "stream",
          "text": [
            "Erro médio Absoluto: 3.29\n",
            "R2 Score: 0.69\n"
          ],
          "name": "stdout"
        }
      ]
    }
  ]
}